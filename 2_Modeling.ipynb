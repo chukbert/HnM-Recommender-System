{
 "cells": [
  {
   "cell_type": "markdown",
   "id": "41b63ee1",
   "metadata": {
    "papermill": {
     "duration": 0.010577,
     "end_time": "2023-01-14T13:43:22.909325",
     "exception": false,
     "start_time": "2023-01-14T13:43:22.898748",
     "status": "completed"
    },
    "tags": []
   },
   "source": []
  },
  {
   "cell_type": "code",
   "execution_count": 1,
   "id": "b0311280",
   "metadata": {
    "execution": {
     "iopub.execute_input": "2023-01-14T13:43:22.930890Z",
     "iopub.status.busy": "2023-01-14T13:43:22.930277Z",
     "iopub.status.idle": "2023-01-14T13:43:22.944982Z",
     "shell.execute_reply": "2023-01-14T13:43:22.943953Z"
    },
    "papermill": {
     "duration": 0.028413,
     "end_time": "2023-01-14T13:43:22.947404",
     "exception": false,
     "start_time": "2023-01-14T13:43:22.918991",
     "status": "completed"
    },
    "tags": []
   },
   "outputs": [],
   "source": [
    "# helper function\n",
    "import numpy as np # linear algebra\n",
    "import pandas as pd # data processing, CSV file I/O (e.g. pd.read_csv)\n",
    "import os\n",
    "import pickle as pkl\n",
    "\n",
    "def convert_c_id(series, dictionary):\n",
    "    \"\"\"map customer id to int, this will reduce the memory usage by 16x\"\"\"\n",
    "    return series.map(dictionary).astype('int32')\n",
    "\n",
    "def a_id_str_to_int(series):\n",
    "    \"\"\"map article id to int, this will reduce the memory usage by 2.5x\"\"\"\n",
    "    return series.astype('int32')\n",
    "\n",
    "def a_id_int_to_str(series):\n",
    "    \"\"\"convert back to original article id for submission\"\"\"\n",
    "    return '0' + series.astype('str')\n",
    "\n",
    "def codes_cat(series):\n",
    "    \"\"\"reduce data memory by converting categorical obj to int\"\"\"\n",
    "    return pd.Series(pd.Categorical(series, categories=series.dropna().unique()).codes)"
   ]
  },
  {
   "cell_type": "code",
   "execution_count": 2,
   "id": "0483b012",
   "metadata": {
    "_cell_guid": "b1076dfc-b9ad-4769-8c92-a6c4dae69d19",
    "_uuid": "8f2839f25d086af736a60e9eeb907d3b93b6e0e5",
    "execution": {
     "iopub.execute_input": "2023-01-14T13:43:22.969574Z",
     "iopub.status.busy": "2023-01-14T13:43:22.969218Z",
     "iopub.status.idle": "2023-01-14T13:44:53.631977Z",
     "shell.execute_reply": "2023-01-14T13:44:53.630968Z"
    },
    "papermill": {
     "duration": 90.677445,
     "end_time": "2023-01-14T13:44:53.634455",
     "exception": false,
     "start_time": "2023-01-14T13:43:22.957010",
     "status": "completed"
    },
    "tags": []
   },
   "outputs": [],
   "source": [
    "from pathlib import Path\n",
    "\n",
    "data_path = Path('../input/h-and-m-personalized-fashion-recommendations')\n",
    "\n",
    "t_df = pd.read_csv(data_path/'transactions_train.csv')\n",
    "t_df['t_dat'] = pd.to_datetime(t_df['t_dat'])\n",
    "\n",
    "c_df = pd.read_csv(data_path/'customers.csv')\n",
    "\n",
    "a_df = pd.read_csv(data_path/'articles.csv')"
   ]
  },
  {
   "cell_type": "code",
   "execution_count": 3,
   "id": "c9e1d752",
   "metadata": {
    "execution": {
     "iopub.execute_input": "2023-01-14T13:44:53.654893Z",
     "iopub.status.busy": "2023-01-14T13:44:53.654026Z",
     "iopub.status.idle": "2023-01-14T13:44:56.955263Z",
     "shell.execute_reply": "2023-01-14T13:44:56.954142Z"
    },
    "papermill": {
     "duration": 3.313529,
     "end_time": "2023-01-14T13:44:56.957554",
     "exception": false,
     "start_time": "2023-01-14T13:44:53.644025",
     "status": "completed"
    },
    "tags": []
   },
   "outputs": [
    {
     "name": "stdout",
     "output_type": "stream",
     "text": [
      "<class 'pandas.core.frame.DataFrame'>\n",
      "RangeIndex: 31788324 entries, 0 to 31788323\n",
      "Data columns (total 5 columns):\n",
      " #   Column            Dtype         \n",
      "---  ------            -----         \n",
      " 0   t_dat             datetime64[ns]\n",
      " 1   customer_id       object        \n",
      " 2   article_id        int64         \n",
      " 3   price             float64       \n",
      " 4   sales_channel_id  int64         \n",
      "dtypes: datetime64[ns](1), float64(1), int64(2), object(1)\n",
      "memory usage: 4.5 GB\n"
     ]
    }
   ],
   "source": [
    "t_df.info(memory_usage='deep')"
   ]
  },
  {
   "cell_type": "code",
   "execution_count": 4,
   "id": "5a3c8833",
   "metadata": {
    "execution": {
     "iopub.execute_input": "2023-01-14T13:44:56.977381Z",
     "iopub.status.busy": "2023-01-14T13:44:56.976973Z",
     "iopub.status.idle": "2023-01-14T13:45:07.765616Z",
     "shell.execute_reply": "2023-01-14T13:45:07.764446Z"
    },
    "papermill": {
     "duration": 10.801087,
     "end_time": "2023-01-14T13:45:07.767906",
     "exception": false,
     "start_time": "2023-01-14T13:44:56.966819",
     "status": "completed"
    },
    "tags": []
   },
   "outputs": [
    {
     "name": "stdout",
     "output_type": "stream",
     "text": [
      "<class 'pandas.core.frame.DataFrame'>\n",
      "RangeIndex: 31788324 entries, 0 to 31788323\n",
      "Data columns (total 6 columns):\n",
      " #   Column            Dtype         \n",
      "---  ------            -----         \n",
      " 0   t_dat             datetime64[ns]\n",
      " 1   customer_id       int32         \n",
      " 2   article_id        int32         \n",
      " 3   price             float64       \n",
      " 4   sales_channel_id  int8          \n",
      " 5   week              int8          \n",
      "dtypes: datetime64[ns](1), float64(1), int32(2), int8(2)\n",
      "memory usage: 788.2 MB\n"
     ]
    }
   ],
   "source": [
    "# for memory efficiency\n",
    "id_to_index_dict = dict(zip(c_df[\"customer_id\"], c_df.index))\n",
    "index_to_id_dict = dict(zip(c_df.index, c_df[\"customer_id\"]))\n",
    "\n",
    "t_df[\"customer_id\"] = convert_c_id(t_df[\"customer_id\"], id_to_index_dict)\n",
    "t_df['article_id'] = a_id_str_to_int(t_df['article_id'])\n",
    "t_df['sales_channel_id'] = t_df['sales_channel_id'].astype('int8')\n",
    "\n",
    "t_df['week'] = 104 - (t_df.t_dat.max() - t_df.t_dat).dt.days // 7\n",
    "t_df['week'] = t_df['week'].astype('int8')\n",
    "\n",
    "t_df.info(memory_usage='deep')"
   ]
  },
  {
   "cell_type": "code",
   "execution_count": 5,
   "id": "3f88da33",
   "metadata": {
    "execution": {
     "iopub.execute_input": "2023-01-14T13:45:07.788203Z",
     "iopub.status.busy": "2023-01-14T13:45:07.787825Z",
     "iopub.status.idle": "2023-01-14T13:45:08.635875Z",
     "shell.execute_reply": "2023-01-14T13:45:08.634723Z"
    },
    "papermill": {
     "duration": 0.860716,
     "end_time": "2023-01-14T13:45:08.638182",
     "exception": false,
     "start_time": "2023-01-14T13:45:07.777466",
     "status": "completed"
    },
    "tags": []
   },
   "outputs": [
    {
     "name": "stdout",
     "output_type": "stream",
     "text": [
      "<class 'pandas.core.frame.DataFrame'>\n",
      "RangeIndex: 1371980 entries, 0 to 1371979\n",
      "Data columns (total 7 columns):\n",
      " #   Column                  Non-Null Count    Dtype  \n",
      "---  ------                  --------------    -----  \n",
      " 0   customer_id             1371980 non-null  object \n",
      " 1   FN                      476930 non-null   float64\n",
      " 2   Active                  464404 non-null   float64\n",
      " 3   club_member_status      1365918 non-null  object \n",
      " 4   fashion_news_frequency  1355971 non-null  object \n",
      " 5   age                     1356119 non-null  float64\n",
      " 6   postal_code             1371980 non-null  object \n",
      "dtypes: float64(3), object(4)\n",
      "memory usage: 512.3 MB\n"
     ]
    }
   ],
   "source": [
    "c_df.info(memory_usage='deep')"
   ]
  },
  {
   "cell_type": "code",
   "execution_count": 6,
   "id": "38decdda",
   "metadata": {
    "execution": {
     "iopub.execute_input": "2023-01-14T13:45:08.659286Z",
     "iopub.status.busy": "2023-01-14T13:45:08.658675Z",
     "iopub.status.idle": "2023-01-14T13:45:11.816225Z",
     "shell.execute_reply": "2023-01-14T13:45:11.814851Z"
    },
    "papermill": {
     "duration": 3.171261,
     "end_time": "2023-01-14T13:45:11.818981",
     "exception": false,
     "start_time": "2023-01-14T13:45:08.647720",
     "status": "completed"
    },
    "tags": []
   },
   "outputs": [
    {
     "name": "stdout",
     "output_type": "stream",
     "text": [
      "<class 'pandas.core.frame.DataFrame'>\n",
      "RangeIndex: 1371980 entries, 0 to 1371979\n",
      "Data columns (total 7 columns):\n",
      " #   Column                  Non-Null Count    Dtype\n",
      "---  ------                  --------------    -----\n",
      " 0   customer_id             1371980 non-null  int32\n",
      " 1   FN                      1371980 non-null  int8 \n",
      " 2   Active                  1371980 non-null  int8 \n",
      " 3   club_member_status      1371980 non-null  int8 \n",
      " 4   fashion_news_frequency  1371980 non-null  int8 \n",
      " 5   age                     1371980 non-null  int8 \n",
      " 6   postal_code             1371980 non-null  int32\n",
      "dtypes: int32(2), int8(5)\n",
      "memory usage: 17.0 MB\n"
     ]
    }
   ],
   "source": [
    "# Handle missing value for customer df and reduce memory space\n",
    "c_df['customer_id'] = convert_c_id(c_df['customer_id'], id_to_index_dict)\n",
    "\n",
    "c_df['FN'] = c_df['FN'].fillna(-1).astype('int8')\n",
    "\n",
    "c_df['Active'] = c_df['Active'].fillna(-1).astype('int8')\n",
    "\n",
    "c_df['club_member_status'] = codes_cat(c_df['club_member_status'])\n",
    "\n",
    "c_df['fashion_news_frequency'] = codes_cat(c_df['fashion_news_frequency'])\n",
    "\n",
    "c_df['age'] = c_df['age'].fillna(-1).astype('int8')\n",
    "\n",
    "c_df['postal_code'] = codes_cat(c_df['postal_code'])\n",
    "\n",
    "c_df.info(memory_usage='deep')"
   ]
  },
  {
   "cell_type": "code",
   "execution_count": 7,
   "id": "e06c9a5d",
   "metadata": {
    "execution": {
     "iopub.execute_input": "2023-01-14T13:45:11.840188Z",
     "iopub.status.busy": "2023-01-14T13:45:11.839812Z",
     "iopub.status.idle": "2023-01-14T13:45:12.066319Z",
     "shell.execute_reply": "2023-01-14T13:45:12.064996Z"
    },
    "papermill": {
     "duration": 0.239726,
     "end_time": "2023-01-14T13:45:12.068795",
     "exception": false,
     "start_time": "2023-01-14T13:45:11.829069",
     "status": "completed"
    },
    "tags": []
   },
   "outputs": [
    {
     "name": "stdout",
     "output_type": "stream",
     "text": [
      "<class 'pandas.core.frame.DataFrame'>\n",
      "RangeIndex: 105542 entries, 0 to 105541\n",
      "Data columns (total 25 columns):\n",
      " #   Column                        Non-Null Count   Dtype \n",
      "---  ------                        --------------   ----- \n",
      " 0   article_id                    105542 non-null  int64 \n",
      " 1   product_code                  105542 non-null  int64 \n",
      " 2   prod_name                     105542 non-null  object\n",
      " 3   product_type_no               105542 non-null  int64 \n",
      " 4   product_type_name             105542 non-null  object\n",
      " 5   product_group_name            105542 non-null  object\n",
      " 6   graphical_appearance_no       105542 non-null  int64 \n",
      " 7   graphical_appearance_name     105542 non-null  object\n",
      " 8   colour_group_code             105542 non-null  int64 \n",
      " 9   colour_group_name             105542 non-null  object\n",
      " 10  perceived_colour_value_id     105542 non-null  int64 \n",
      " 11  perceived_colour_value_name   105542 non-null  object\n",
      " 12  perceived_colour_master_id    105542 non-null  int64 \n",
      " 13  perceived_colour_master_name  105542 non-null  object\n",
      " 14  department_no                 105542 non-null  int64 \n",
      " 15  department_name               105542 non-null  object\n",
      " 16  index_code                    105542 non-null  object\n",
      " 17  index_name                    105542 non-null  object\n",
      " 18  index_group_no                105542 non-null  int64 \n",
      " 19  index_group_name              105542 non-null  object\n",
      " 20  section_no                    105542 non-null  int64 \n",
      " 21  section_name                  105542 non-null  object\n",
      " 22  garment_group_no              105542 non-null  int64 \n",
      " 23  garment_group_name            105542 non-null  object\n",
      " 24  detail_desc                   105126 non-null  object\n",
      "dtypes: int64(11), object(14)\n",
      "memory usage: 117.6 MB\n"
     ]
    }
   ],
   "source": [
    "a_df.info(memory_usage='deep')"
   ]
  },
  {
   "cell_type": "code",
   "execution_count": 8,
   "id": "f5fd3402",
   "metadata": {
    "execution": {
     "iopub.execute_input": "2023-01-14T13:45:12.089960Z",
     "iopub.status.busy": "2023-01-14T13:45:12.089235Z",
     "iopub.status.idle": "2023-01-14T13:45:12.558216Z",
     "shell.execute_reply": "2023-01-14T13:45:12.556954Z"
    },
    "papermill": {
     "duration": 0.481895,
     "end_time": "2023-01-14T13:45:12.560547",
     "exception": false,
     "start_time": "2023-01-14T13:45:12.078652",
     "status": "completed"
    },
    "tags": []
   },
   "outputs": [
    {
     "name": "stdout",
     "output_type": "stream",
     "text": [
      "<class 'pandas.core.frame.DataFrame'>\n",
      "RangeIndex: 105542 entries, 0 to 105541\n",
      "Data columns (total 25 columns):\n",
      " #   Column                        Non-Null Count   Dtype\n",
      "---  ------                        --------------   -----\n",
      " 0   article_id                    105542 non-null  int64\n",
      " 1   product_code                  105542 non-null  int64\n",
      " 2   prod_name                     105542 non-null  int32\n",
      " 3   product_type_no               105542 non-null  int64\n",
      " 4   product_type_name             105542 non-null  int16\n",
      " 5   product_group_name            105542 non-null  int8 \n",
      " 6   graphical_appearance_no       105542 non-null  int64\n",
      " 7   graphical_appearance_name     105542 non-null  int8 \n",
      " 8   colour_group_code             105542 non-null  int64\n",
      " 9   colour_group_name             105542 non-null  int8 \n",
      " 10  perceived_colour_value_id     105542 non-null  int64\n",
      " 11  perceived_colour_value_name   105542 non-null  int8 \n",
      " 12  perceived_colour_master_id    105542 non-null  int64\n",
      " 13  perceived_colour_master_name  105542 non-null  int8 \n",
      " 14  department_no                 105542 non-null  int64\n",
      " 15  department_name               105542 non-null  int16\n",
      " 16  index_code                    105542 non-null  int8 \n",
      " 17  index_name                    105542 non-null  int8 \n",
      " 18  index_group_no                105542 non-null  int64\n",
      " 19  index_group_name              105542 non-null  int8 \n",
      " 20  section_no                    105542 non-null  int64\n",
      " 21  section_name                  105542 non-null  int8 \n",
      " 22  garment_group_no              105542 non-null  int64\n",
      " 23  garment_group_name            105542 non-null  int8 \n",
      " 24  detail_desc                   105542 non-null  int32\n",
      "dtypes: int16(2), int32(2), int64(11), int8(10)\n",
      "memory usage: 11.1 MB\n"
     ]
    }
   ],
   "source": [
    "for col in a_df.columns:\n",
    "    if a_df[col].dtype == 'object':\n",
    "        a_df[col] = codes_cat(a_df[col])\n",
    "        \n",
    "a_df.info(memory_usage='deep')"
   ]
  },
  {
   "cell_type": "markdown",
   "id": "49fc4d37",
   "metadata": {
    "papermill": {
     "duration": 0.009076,
     "end_time": "2023-01-14T13:45:12.579356",
     "exception": false,
     "start_time": "2023-01-14T13:45:12.570280",
     "status": "completed"
    },
    "tags": []
   },
   "source": [
    "The data train was huge, 30 GB of RAM won't enough to process it. With a memory trick (credit: https://www.kaggle.com/competitions/h-and-m-personalized-fashion-recommendations/discussion/308635), we can get enough RAM to work with it. We use the last 9 weeks for training.\n",
    "\n",
    "# Candidates Generation\n",
    "\n",
    "Candidates generated below can be used as candidates for evaluation by our ranker (for the test week) and as negative examples (for training data). In this notebook, I generate candidates from 4 sources:\n",
    "- Customer expenses on transactions, aggregate price\n",
    "- Customer last item purchased\n",
    "- Bestseller weekly\n",
    "- Bestseller last week (week 104)\n"
   ]
  },
  {
   "cell_type": "code",
   "execution_count": 9,
   "id": "c1b8a9e1",
   "metadata": {
    "execution": {
     "iopub.execute_input": "2023-01-14T13:45:12.600141Z",
     "iopub.status.busy": "2023-01-14T13:45:12.599762Z",
     "iopub.status.idle": "2023-01-14T13:45:13.013768Z",
     "shell.execute_reply": "2023-01-14T13:45:13.012672Z"
    },
    "papermill": {
     "duration": 0.427468,
     "end_time": "2023-01-14T13:45:13.016337",
     "exception": false,
     "start_time": "2023-01-14T13:45:12.588869",
     "status": "completed"
    },
    "tags": []
   },
   "outputs": [],
   "source": [
    "# only use 9 week data train because limited resource\n",
    "\n",
    "test_week = t_df['week'].max() + 1\n",
    "t_df = t_df[t_df['week'] > test_week - 9]"
   ]
  },
  {
   "cell_type": "code",
   "execution_count": 10,
   "id": "3fda02d5",
   "metadata": {
    "execution": {
     "iopub.execute_input": "2023-01-14T13:45:13.038816Z",
     "iopub.status.busy": "2023-01-14T13:45:13.038425Z",
     "iopub.status.idle": "2023-01-14T13:45:13.450137Z",
     "shell.execute_reply": "2023-01-14T13:45:13.449141Z"
    },
    "papermill": {
     "duration": 0.426203,
     "end_time": "2023-01-14T13:45:13.453055",
     "exception": false,
     "start_time": "2023-01-14T13:45:13.026852",
     "status": "completed"
    },
    "tags": []
   },
   "outputs": [],
   "source": [
    "t_df.sort_values(['t_dat', 'customer_id'], inplace=True)"
   ]
  },
  {
   "cell_type": "code",
   "execution_count": 11,
   "id": "1a1c261d",
   "metadata": {
    "execution": {
     "iopub.execute_input": "2023-01-14T13:45:13.474554Z",
     "iopub.status.busy": "2023-01-14T13:45:13.474156Z",
     "iopub.status.idle": "2023-01-14T13:45:13.849254Z",
     "shell.execute_reply": "2023-01-14T13:45:13.848251Z"
    },
    "papermill": {
     "duration": 0.389026,
     "end_time": "2023-01-14T13:45:13.852035",
     "exception": false,
     "start_time": "2023-01-14T13:45:13.463009",
     "status": "completed"
    },
    "tags": []
   },
   "outputs": [],
   "source": [
    "# Add detail about the prices from transactions of each customer\n",
    "agg_cust_df = t_df \\\n",
    "    .groupby('customer_id')['price'] \\\n",
    "    .agg(\n",
    "        mean_transactions = 'mean',\n",
    "        max_transactions = 'max',\n",
    "        min_transactions = 'min',\n",
    "        median_transactions = 'median',\n",
    "        sum_transactions = 'sum'\n",
    "    ) \\\n",
    "    .astype('float32')"
   ]
  },
  {
   "cell_type": "code",
   "execution_count": 12,
   "id": "4c5a0dda",
   "metadata": {
    "execution": {
     "iopub.execute_input": "2023-01-14T13:45:13.873690Z",
     "iopub.status.busy": "2023-01-14T13:45:13.873303Z",
     "iopub.status.idle": "2023-01-14T13:45:32.502536Z",
     "shell.execute_reply": "2023-01-14T13:45:32.501622Z"
    },
    "papermill": {
     "duration": 18.642745,
     "end_time": "2023-01-14T13:45:32.505094",
     "exception": false,
     "start_time": "2023-01-14T13:45:13.862349",
     "status": "completed"
    },
    "tags": []
   },
   "outputs": [],
   "source": [
    "c_weeks = t_df.groupby('customer_id')['week'].unique()\n",
    "\n",
    "c_weeks_shifted_weeks = {}\n",
    "\n",
    "for c_id, weeks in c_weeks.items():\n",
    "    c_weeks_shifted_weeks[c_id] = {}\n",
    "    for i in range(weeks.shape[0]-1):\n",
    "        c_weeks_shifted_weeks[c_id][weeks[i]] = weeks[i+1]\n",
    "    c_weeks_shifted_weeks[c_id][weeks[-1]] = test_week"
   ]
  },
  {
   "cell_type": "code",
   "execution_count": 13,
   "id": "0cc53013",
   "metadata": {
    "execution": {
     "iopub.execute_input": "2023-01-14T13:45:32.528205Z",
     "iopub.status.busy": "2023-01-14T13:45:32.527796Z",
     "iopub.status.idle": "2023-01-14T13:45:38.616865Z",
     "shell.execute_reply": "2023-01-14T13:45:38.615982Z"
    },
    "papermill": {
     "duration": 6.103344,
     "end_time": "2023-01-14T13:45:38.619506",
     "exception": false,
     "start_time": "2023-01-14T13:45:32.516162",
     "status": "completed"
    },
    "tags": []
   },
   "outputs": [],
   "source": [
    "candidates_repurchase_df = t_df.copy()\n",
    "\n",
    "weeks = []\n",
    "for _, (c_id, week) in enumerate(zip(t_df['customer_id'], t_df['week'])):\n",
    "    weeks.append(c_weeks_shifted_weeks[c_id][week])\n",
    "    \n",
    "candidates_repurchase_df['week'] = weeks"
   ]
  },
  {
   "cell_type": "code",
   "execution_count": 14,
   "id": "7cef53d5",
   "metadata": {
    "execution": {
     "iopub.execute_input": "2023-01-14T13:45:38.641533Z",
     "iopub.status.busy": "2023-01-14T13:45:38.640822Z",
     "iopub.status.idle": "2023-01-14T13:45:38.833064Z",
     "shell.execute_reply": "2023-01-14T13:45:38.832135Z"
    },
    "papermill": {
     "duration": 0.205884,
     "end_time": "2023-01-14T13:45:38.835504",
     "exception": false,
     "start_time": "2023-01-14T13:45:38.629620",
     "status": "completed"
    },
    "tags": []
   },
   "outputs": [],
   "source": [
    "mean_price_df = t_df.groupby(['week', 'article_id'])['price'].mean()"
   ]
  },
  {
   "cell_type": "code",
   "execution_count": 15,
   "id": "779d1e3d",
   "metadata": {
    "execution": {
     "iopub.execute_input": "2023-01-14T13:45:38.856645Z",
     "iopub.status.busy": "2023-01-14T13:45:38.855962Z",
     "iopub.status.idle": "2023-01-14T13:45:39.474070Z",
     "shell.execute_reply": "2023-01-14T13:45:39.473180Z"
    },
    "papermill": {
     "duration": 0.631213,
     "end_time": "2023-01-14T13:45:39.476483",
     "exception": false,
     "start_time": "2023-01-14T13:45:38.845270",
     "status": "completed"
    },
    "tags": []
   },
   "outputs": [],
   "source": [
    "top_item_weekly_df = t_df \\\n",
    "    .groupby('week')['article_id'].value_counts() \\\n",
    "    .groupby('week').rank(method='dense', ascending=False) \\\n",
    "    .groupby('week').head(12).rename('bestseller_rank')"
   ]
  },
  {
   "cell_type": "code",
   "execution_count": 16,
   "id": "d58c7be2",
   "metadata": {
    "execution": {
     "iopub.execute_input": "2023-01-14T13:45:39.497668Z",
     "iopub.status.busy": "2023-01-14T13:45:39.497223Z",
     "iopub.status.idle": "2023-01-14T13:45:39.568736Z",
     "shell.execute_reply": "2023-01-14T13:45:39.567784Z"
    },
    "papermill": {
     "duration": 0.084935,
     "end_time": "2023-01-14T13:45:39.571333",
     "exception": false,
     "start_time": "2023-01-14T13:45:39.486398",
     "status": "completed"
    },
    "tags": []
   },
   "outputs": [],
   "source": [
    "bs_prev_week_df = pd.merge(top_item_weekly_df, mean_price_df, on=['week', 'article_id']).reset_index()\n",
    "bs_prev_week_df['week'] += 1"
   ]
  },
  {
   "cell_type": "code",
   "execution_count": 17,
   "id": "1a4a7c9f",
   "metadata": {
    "execution": {
     "iopub.execute_input": "2023-01-14T13:45:39.592428Z",
     "iopub.status.busy": "2023-01-14T13:45:39.592087Z",
     "iopub.status.idle": "2023-01-14T13:45:40.032604Z",
     "shell.execute_reply": "2023-01-14T13:45:40.031622Z"
    },
    "papermill": {
     "duration": 0.453783,
     "end_time": "2023-01-14T13:45:40.035200",
     "exception": false,
     "start_time": "2023-01-14T13:45:39.581417",
     "status": "completed"
    },
    "tags": []
   },
   "outputs": [],
   "source": [
    "unique_t_df = t_df \\\n",
    "    .groupby(['week', 'customer_id']) \\\n",
    "    .head(1) \\\n",
    "    .drop(columns=['article_id', 'price']) \\\n",
    "    .copy()"
   ]
  },
  {
   "cell_type": "code",
   "execution_count": 18,
   "id": "bc2d17c9",
   "metadata": {
    "execution": {
     "iopub.execute_input": "2023-01-14T13:45:40.056971Z",
     "iopub.status.busy": "2023-01-14T13:45:40.056212Z",
     "iopub.status.idle": "2023-01-14T13:45:40.360813Z",
     "shell.execute_reply": "2023-01-14T13:45:40.359551Z"
    },
    "papermill": {
     "duration": 0.318442,
     "end_time": "2023-01-14T13:45:40.363650",
     "exception": false,
     "start_time": "2023-01-14T13:45:40.045208",
     "status": "completed"
    },
    "tags": []
   },
   "outputs": [],
   "source": [
    "candidates_bs_df = pd.merge(\n",
    "    unique_t_df,\n",
    "    bs_prev_week_df,\n",
    "    on='week',\n",
    ")"
   ]
  },
  {
   "cell_type": "code",
   "execution_count": 19,
   "id": "66875f73",
   "metadata": {
    "execution": {
     "iopub.execute_input": "2023-01-14T13:45:40.385024Z",
     "iopub.status.busy": "2023-01-14T13:45:40.384652Z",
     "iopub.status.idle": "2023-01-14T13:45:40.453063Z",
     "shell.execute_reply": "2023-01-14T13:45:40.451992Z"
    },
    "papermill": {
     "duration": 0.081983,
     "end_time": "2023-01-14T13:45:40.455610",
     "exception": false,
     "start_time": "2023-01-14T13:45:40.373627",
     "status": "completed"
    },
    "tags": []
   },
   "outputs": [],
   "source": [
    "# candidates : top item last week (on w104) for every customer\n",
    "test_set_t_df = unique_t_df.drop_duplicates('customer_id').reset_index(drop=True)\n",
    "test_set_t_df.week = test_week"
   ]
  },
  {
   "cell_type": "code",
   "execution_count": 20,
   "id": "33b9f9fc",
   "metadata": {
    "execution": {
     "iopub.execute_input": "2023-01-14T13:45:40.476442Z",
     "iopub.status.busy": "2023-01-14T13:45:40.476080Z",
     "iopub.status.idle": "2023-01-14T13:45:40.734671Z",
     "shell.execute_reply": "2023-01-14T13:45:40.733781Z"
    },
    "papermill": {
     "duration": 0.271963,
     "end_time": "2023-01-14T13:45:40.737336",
     "exception": false,
     "start_time": "2023-01-14T13:45:40.465373",
     "status": "completed"
    },
    "tags": []
   },
   "outputs": [],
   "source": [
    "candidates_bs_test_week_df = pd.merge(\n",
    "    test_set_t_df,\n",
    "    bs_prev_week_df,\n",
    "    on='week'\n",
    ")"
   ]
  },
  {
   "cell_type": "code",
   "execution_count": 21,
   "id": "74320400",
   "metadata": {
    "execution": {
     "iopub.execute_input": "2023-01-14T13:45:40.758764Z",
     "iopub.status.busy": "2023-01-14T13:45:40.758242Z",
     "iopub.status.idle": "2023-01-14T13:45:44.440485Z",
     "shell.execute_reply": "2023-01-14T13:45:44.439336Z"
    },
    "papermill": {
     "duration": 3.696323,
     "end_time": "2023-01-14T13:45:44.443504",
     "exception": false,
     "start_time": "2023-01-14T13:45:40.747181",
     "status": "completed"
    },
    "tags": []
   },
   "outputs": [],
   "source": [
    "candidates_bs_df = pd.concat([candidates_bs_df, candidates_bs_test_week_df])\n",
    "candidates_bs_df.drop(columns='bestseller_rank', inplace=True)\n",
    "candidates_bs_df.drop_duplicates(inplace=True)"
   ]
  },
  {
   "cell_type": "code",
   "execution_count": 22,
   "id": "0409d56c",
   "metadata": {
    "execution": {
     "iopub.execute_input": "2023-01-14T13:45:44.466688Z",
     "iopub.status.busy": "2023-01-14T13:45:44.466284Z",
     "iopub.status.idle": "2023-01-14T13:45:44.840640Z",
     "shell.execute_reply": "2023-01-14T13:45:44.839638Z"
    },
    "papermill": {
     "duration": 0.388575,
     "end_time": "2023-01-14T13:45:44.843229",
     "exception": false,
     "start_time": "2023-01-14T13:45:44.454654",
     "status": "completed"
    },
    "tags": []
   },
   "outputs": [],
   "source": [
    "t_df['label'] = 1\n",
    "train_df = pd.concat([t_df, candidates_repurchase_df, candidates_bs_df])\n",
    "train_df['label'].fillna(0, inplace=True)"
   ]
  },
  {
   "cell_type": "code",
   "execution_count": 23,
   "id": "a0d65302",
   "metadata": {
    "execution": {
     "iopub.execute_input": "2023-01-14T13:45:44.864137Z",
     "iopub.status.busy": "2023-01-14T13:45:44.863749Z",
     "iopub.status.idle": "2023-01-14T13:45:53.884429Z",
     "shell.execute_reply": "2023-01-14T13:45:53.883348Z"
    },
    "papermill": {
     "duration": 9.034127,
     "end_time": "2023-01-14T13:45:53.887234",
     "exception": false,
     "start_time": "2023-01-14T13:45:44.853107",
     "status": "completed"
    },
    "tags": []
   },
   "outputs": [],
   "source": [
    "train_df.drop(train_df[train_df['week'] == train_df['week'].min()].index, inplace=True)"
   ]
  },
  {
   "cell_type": "code",
   "execution_count": 24,
   "id": "f856f423",
   "metadata": {
    "execution": {
     "iopub.execute_input": "2023-01-14T13:45:53.908577Z",
     "iopub.status.busy": "2023-01-14T13:45:53.908223Z",
     "iopub.status.idle": "2023-01-14T13:45:56.705169Z",
     "shell.execute_reply": "2023-01-14T13:45:56.704103Z"
    },
    "papermill": {
     "duration": 2.810806,
     "end_time": "2023-01-14T13:45:56.707994",
     "exception": false,
     "start_time": "2023-01-14T13:45:53.897188",
     "status": "completed"
    },
    "tags": []
   },
   "outputs": [],
   "source": [
    "# add rank info \n",
    "train_df = pd.merge(\n",
    "    train_df,\n",
    "    bs_prev_week_df[['week', 'article_id', 'bestseller_rank']],\n",
    "    on=['week', 'article_id'],\n",
    "    how='left'\n",
    ")"
   ]
  },
  {
   "cell_type": "code",
   "execution_count": 25,
   "id": "3f730457",
   "metadata": {
    "execution": {
     "iopub.execute_input": "2023-01-14T13:45:56.729221Z",
     "iopub.status.busy": "2023-01-14T13:45:56.728780Z",
     "iopub.status.idle": "2023-01-14T13:45:56.757095Z",
     "shell.execute_reply": "2023-01-14T13:45:56.756136Z"
    },
    "papermill": {
     "duration": 0.041528,
     "end_time": "2023-01-14T13:45:56.759510",
     "exception": false,
     "start_time": "2023-01-14T13:45:56.717982",
     "status": "completed"
    },
    "tags": []
   },
   "outputs": [],
   "source": [
    "train_df['bestseller_rank'].fillna(999, inplace=True)"
   ]
  },
  {
   "cell_type": "code",
   "execution_count": 26,
   "id": "76e3b2e7",
   "metadata": {
    "execution": {
     "iopub.execute_input": "2023-01-14T13:45:56.780556Z",
     "iopub.status.busy": "2023-01-14T13:45:56.780190Z",
     "iopub.status.idle": "2023-01-14T13:45:59.902396Z",
     "shell.execute_reply": "2023-01-14T13:45:59.901341Z"
    },
    "papermill": {
     "duration": 3.135653,
     "end_time": "2023-01-14T13:45:59.904974",
     "exception": false,
     "start_time": "2023-01-14T13:45:56.769321",
     "status": "completed"
    },
    "tags": []
   },
   "outputs": [],
   "source": [
    "# add price info\n",
    "train_df = pd.merge(train_df, agg_cust_df, on='customer_id', how='left')"
   ]
  },
  {
   "cell_type": "code",
   "execution_count": 27,
   "id": "cc0910bf",
   "metadata": {
    "execution": {
     "iopub.execute_input": "2023-01-14T13:45:59.927452Z",
     "iopub.status.busy": "2023-01-14T13:45:59.927068Z",
     "iopub.status.idle": "2023-01-14T13:46:27.209098Z",
     "shell.execute_reply": "2023-01-14T13:46:27.207879Z"
    },
    "papermill": {
     "duration": 27.296613,
     "end_time": "2023-01-14T13:46:27.211760",
     "exception": false,
     "start_time": "2023-01-14T13:45:59.915147",
     "status": "completed"
    },
    "tags": []
   },
   "outputs": [],
   "source": [
    "train_df = pd.merge(train_df, a_df, on='article_id', how='left')\n",
    "train_df = pd.merge(train_df, c_df, on='customer_id', how='left')\n",
    "\n",
    "train_df.sort_values(['week', 'customer_id'], ignore_index=True, inplace=True)"
   ]
  },
  {
   "cell_type": "code",
   "execution_count": 28,
   "id": "efc11b09",
   "metadata": {
    "execution": {
     "iopub.execute_input": "2023-01-14T13:46:27.234263Z",
     "iopub.status.busy": "2023-01-14T13:46:27.233432Z",
     "iopub.status.idle": "2023-01-14T13:46:33.917855Z",
     "shell.execute_reply": "2023-01-14T13:46:33.916636Z"
    },
    "papermill": {
     "duration": 6.69888,
     "end_time": "2023-01-14T13:46:33.920783",
     "exception": false,
     "start_time": "2023-01-14T13:46:27.221903",
     "status": "completed"
    },
    "tags": []
   },
   "outputs": [],
   "source": [
    "test_df = train_df[train_df['week'] == test_week].drop_duplicates(['customer_id', 'article_id']).copy()\n",
    "train_df = train_df[train_df['week'] != test_week]"
   ]
  },
  {
   "cell_type": "code",
   "execution_count": 29,
   "id": "287a8779",
   "metadata": {
    "execution": {
     "iopub.execute_input": "2023-01-14T13:46:33.944120Z",
     "iopub.status.busy": "2023-01-14T13:46:33.943624Z",
     "iopub.status.idle": "2023-01-14T13:46:34.687553Z",
     "shell.execute_reply": "2023-01-14T13:46:34.686473Z"
    },
    "papermill": {
     "duration": 0.758753,
     "end_time": "2023-01-14T13:46:34.690398",
     "exception": false,
     "start_time": "2023-01-14T13:46:33.931645",
     "status": "completed"
    },
    "tags": []
   },
   "outputs": [],
   "source": [
    "train_baskets = train_df.groupby(['week', 'customer_id'])['article_id'].count().values"
   ]
  },
  {
   "cell_type": "code",
   "execution_count": 30,
   "id": "4c4a324a",
   "metadata": {
    "execution": {
     "iopub.execute_input": "2023-01-14T13:46:34.713170Z",
     "iopub.status.busy": "2023-01-14T13:46:34.712749Z",
     "iopub.status.idle": "2023-01-14T13:46:34.718919Z",
     "shell.execute_reply": "2023-01-14T13:46:34.717661Z"
    },
    "papermill": {
     "duration": 0.020077,
     "end_time": "2023-01-14T13:46:34.721168",
     "exception": false,
     "start_time": "2023-01-14T13:46:34.701091",
     "status": "completed"
    },
    "tags": []
   },
   "outputs": [],
   "source": [
    "features = [\n",
    "    'article_id', 'product_type_no', \n",
    "    'graphical_appearance_no', 'colour_group_code', \n",
    "    'perceived_colour_value_id','perceived_colour_master_id', \n",
    "    'department_no', 'index_code', \n",
    "    'index_group_no', 'section_no', \n",
    "    'garment_group_no', 'FN', \n",
    "    'Active', 'club_member_status', \n",
    "    'fashion_news_frequency', 'age', \n",
    "    'postal_code', 'bestseller_rank',\n",
    "    'mean_transactions', 'max_transactions',\n",
    "    'min_transactions', 'median_transactions',\n",
    "    'sum_transactions'\n",
    "]"
   ]
  },
  {
   "cell_type": "code",
   "execution_count": 31,
   "id": "381d74dd",
   "metadata": {
    "execution": {
     "iopub.execute_input": "2023-01-14T13:46:34.742916Z",
     "iopub.status.busy": "2023-01-14T13:46:34.742506Z",
     "iopub.status.idle": "2023-01-14T13:46:36.533949Z",
     "shell.execute_reply": "2023-01-14T13:46:36.532690Z"
    },
    "papermill": {
     "duration": 1.805529,
     "end_time": "2023-01-14T13:46:36.536865",
     "exception": false,
     "start_time": "2023-01-14T13:46:34.731336",
     "status": "completed"
    },
    "tags": []
   },
   "outputs": [
    {
     "data": {
      "text/html": [
       "<style type='text/css'>\n",
       ".datatable table.frame { margin-bottom: 0; }\n",
       ".datatable table.frame thead { border-bottom: none; }\n",
       ".datatable table.frame tr.coltypes td {  color: #FFFFFF;  line-height: 6px;  padding: 0 0.5em;}\n",
       ".datatable .bool    { background: #DDDD99; }\n",
       ".datatable .object  { background: #565656; }\n",
       ".datatable .int     { background: #5D9E5D; }\n",
       ".datatable .float   { background: #4040CC; }\n",
       ".datatable .str     { background: #CC4040; }\n",
       ".datatable .time    { background: #40CC40; }\n",
       ".datatable .row_index {  background: var(--jp-border-color3);  border-right: 1px solid var(--jp-border-color0);  color: var(--jp-ui-font-color3);  font-size: 9px;}\n",
       ".datatable .frame tbody td { text-align: left; }\n",
       ".datatable .frame tr.coltypes .row_index {  background: var(--jp-border-color0);}\n",
       ".datatable th:nth-child(2) { padding-left: 12px; }\n",
       ".datatable .hellipsis {  color: var(--jp-cell-editor-border-color);}\n",
       ".datatable .vellipsis {  background: var(--jp-layout-color0);  color: var(--jp-cell-editor-border-color);}\n",
       ".datatable .na {  color: var(--jp-cell-editor-border-color);  font-size: 80%;}\n",
       ".datatable .sp {  opacity: 0.25;}\n",
       ".datatable .footer { font-size: 9px; }\n",
       ".datatable .frame_dimensions {  background: var(--jp-border-color3);  border-top: 1px solid var(--jp-border-color0);  color: var(--jp-ui-font-color3);  display: inline-block;  opacity: 0.6;  padding: 1px 10px 1px 5px;}\n",
       "</style>\n"
      ],
      "text/plain": [
       "<IPython.core.display.HTML object>"
      ]
     },
     "metadata": {},
     "output_type": "display_data"
    }
   ],
   "source": [
    "from lightgbm.sklearn import LGBMRanker"
   ]
  },
  {
   "cell_type": "code",
   "execution_count": 32,
   "id": "0a40a363",
   "metadata": {
    "execution": {
     "iopub.execute_input": "2023-01-14T13:46:36.559669Z",
     "iopub.status.busy": "2023-01-14T13:46:36.559248Z",
     "iopub.status.idle": "2023-01-14T13:46:36.564886Z",
     "shell.execute_reply": "2023-01-14T13:46:36.563644Z"
    },
    "papermill": {
     "duration": 0.019596,
     "end_time": "2023-01-14T13:46:36.567298",
     "exception": false,
     "start_time": "2023-01-14T13:46:36.547702",
     "status": "completed"
    },
    "tags": []
   },
   "outputs": [],
   "source": [
    "ranker = LGBMRanker(\n",
    "    objective=\"lambdarank\",\n",
    "    metric=\"ndcg\",\n",
    "    boosting_type=\"dart\",\n",
    "    n_estimators=1,\n",
    "    importance_type='gain',\n",
    "    learning_rate=0.03,\n",
    "    verbose=10\n",
    ")"
   ]
  },
  {
   "cell_type": "code",
   "execution_count": 33,
   "id": "e939721f",
   "metadata": {
    "execution": {
     "iopub.execute_input": "2023-01-14T13:46:36.590032Z",
     "iopub.status.busy": "2023-01-14T13:46:36.589091Z",
     "iopub.status.idle": "2023-01-14T13:46:46.231901Z",
     "shell.execute_reply": "2023-01-14T13:46:46.230948Z"
    },
    "papermill": {
     "duration": 9.656657,
     "end_time": "2023-01-14T13:46:46.234521",
     "exception": false,
     "start_time": "2023-01-14T13:46:36.577864",
     "status": "completed"
    },
    "tags": []
   },
   "outputs": [
    {
     "name": "stdout",
     "output_type": "stream",
     "text": [
      "[LightGBM] [Debug] Dataset::GetMultiBinFromSparseFeatures: sparse rate 0.846213\n",
      "[LightGBM] [Debug] Dataset::GetMultiBinFromAllFeatures: sparse rate 0.120591\n",
      "[LightGBM] [Debug] init for col-wise cost 0.209476 seconds, init for row-wise cost 1.169032 seconds\n",
      "[LightGBM] [Warning] Auto-choosing row-wise multi-threading, the overhead of testing was 0.750829 seconds.\n",
      "You can set `force_row_wise=true` to remove the overhead.\n",
      "And if memory is not enough, you can set `force_col_wise=true`.\n",
      "[LightGBM] [Debug] Using Dense Multi-Val Bin\n",
      "[LightGBM] [Info] Total Bins 2316\n",
      "[LightGBM] [Info] Number of data points in the train set: 8699068, number of used features: 23\n",
      "[LightGBM] [Debug] Trained a tree with leaves = 31 and depth = 10\n",
      "CPU times: user 27.7 s, sys: 1.43 s, total: 29.1 s\n",
      "Wall time: 9.63 s\n"
     ]
    }
   ],
   "source": [
    "%%time\n",
    "\n",
    "ranker = ranker.fit(\n",
    "    train_df[features],\n",
    "    train_df['label'],\n",
    "    group=train_baskets,\n",
    ")"
   ]
  },
  {
   "cell_type": "code",
   "execution_count": 34,
   "id": "037d5941",
   "metadata": {
    "execution": {
     "iopub.execute_input": "2023-01-14T13:46:46.257042Z",
     "iopub.status.busy": "2023-01-14T13:46:46.256667Z",
     "iopub.status.idle": "2023-01-14T13:46:46.265943Z",
     "shell.execute_reply": "2023-01-14T13:46:46.264851Z"
    },
    "papermill": {
     "duration": 0.022732,
     "end_time": "2023-01-14T13:46:46.268152",
     "exception": false,
     "start_time": "2023-01-14T13:46:46.245420",
     "status": "completed"
    },
    "tags": []
   },
   "outputs": [
    {
     "name": "stdout",
     "output_type": "stream",
     "text": [
      "bestseller_rank 0.9912160886261228\n",
      "sum_transactions 0.0073073334638925165\n",
      "mean_transactions 0.0007370371889232798\n",
      "median_transactions 0.00013321677857702075\n",
      "section_no 0.00012890969560645408\n",
      "max_transactions 0.00012571537765782524\n",
      "department_no 0.00011042208061311655\n",
      "article_id 9.233818653610492e-05\n",
      "min_transactions 4.332317927643898e-05\n",
      "colour_group_code 3.900684716798114e-05\n",
      "perceived_colour_value_id 3.636831319026236e-05\n",
      "garment_group_no 3.0240262436190884e-05\n",
      "fashion_news_frequency 0.0\n",
      "club_member_status 0.0\n",
      "Active 0.0\n",
      "age 0.0\n",
      "postal_code 0.0\n",
      "index_group_no 0.0\n",
      "index_code 0.0\n",
      "perceived_colour_master_id 0.0\n",
      "graphical_appearance_no 0.0\n",
      "product_type_no 0.0\n",
      "FN 0.0\n"
     ]
    }
   ],
   "source": [
    "for i in ranker.feature_importances_.argsort()[::-1]:\n",
    "    print(features[i], ranker.feature_importances_[i]/ranker.feature_importances_.sum())"
   ]
  },
  {
   "cell_type": "code",
   "execution_count": 35,
   "id": "49fb27ed",
   "metadata": {
    "execution": {
     "iopub.execute_input": "2023-01-14T13:46:46.291069Z",
     "iopub.status.busy": "2023-01-14T13:46:46.290645Z",
     "iopub.status.idle": "2023-01-14T13:46:58.341071Z",
     "shell.execute_reply": "2023-01-14T13:46:58.339790Z"
    },
    "papermill": {
     "duration": 12.064829,
     "end_time": "2023-01-14T13:46:58.343548",
     "exception": false,
     "start_time": "2023-01-14T13:46:46.278719",
     "status": "completed"
    },
    "tags": []
   },
   "outputs": [
    {
     "name": "stdout",
     "output_type": "stream",
     "text": [
      "CPU times: user 12.9 s, sys: 978 ms, total: 13.9 s\n",
      "Wall time: 12 s\n"
     ]
    }
   ],
   "source": [
    "%%time\n",
    "\n",
    "test_df['preds'] = ranker.predict(test_df[features])\n",
    "\n",
    "c_id_to_predicted_article_ids = test_df \\\n",
    "    .sort_values(['customer_id', 'preds'], ascending=False) \\\n",
    "    .groupby('customer_id')['article_id'].apply(list).to_dict()\n",
    "\n",
    "bestsellers_last_week = \\\n",
    "    bs_prev_week_df[bs_prev_week_df['week'] == bs_prev_week_df['week'].max()]['article_id'].tolist()"
   ]
  },
  {
   "cell_type": "code",
   "execution_count": 36,
   "id": "6a4ecc1c",
   "metadata": {
    "execution": {
     "iopub.execute_input": "2023-01-14T13:46:58.366815Z",
     "iopub.status.busy": "2023-01-14T13:46:58.365717Z",
     "iopub.status.idle": "2023-01-14T13:47:04.679599Z",
     "shell.execute_reply": "2023-01-14T13:47:04.678662Z"
    },
    "papermill": {
     "duration": 6.328019,
     "end_time": "2023-01-14T13:47:04.682169",
     "exception": false,
     "start_time": "2023-01-14T13:46:58.354150",
     "status": "completed"
    },
    "tags": []
   },
   "outputs": [],
   "source": [
    "sub = pd.read_csv(data_path/'sample_submission.csv')"
   ]
  },
  {
   "cell_type": "code",
   "execution_count": 37,
   "id": "e2716208",
   "metadata": {
    "execution": {
     "iopub.execute_input": "2023-01-14T13:47:04.705831Z",
     "iopub.status.busy": "2023-01-14T13:47:04.705427Z",
     "iopub.status.idle": "2023-01-14T13:47:09.944076Z",
     "shell.execute_reply": "2023-01-14T13:47:09.942939Z"
    },
    "papermill": {
     "duration": 5.253769,
     "end_time": "2023-01-14T13:47:09.946608",
     "exception": false,
     "start_time": "2023-01-14T13:47:04.692839",
     "status": "completed"
    },
    "tags": []
   },
   "outputs": [
    {
     "name": "stdout",
     "output_type": "stream",
     "text": [
      "CPU times: user 5.09 s, sys: 145 ms, total: 5.24 s\n",
      "Wall time: 5.23 s\n"
     ]
    }
   ],
   "source": [
    "%%time\n",
    "preds = []\n",
    "\n",
    "for c_id in convert_c_id(sub['customer_id'], id_to_index_dict):\n",
    "    pred = c_id_to_predicted_article_ids.get(c_id, [])\n",
    "    pred = pred + bestsellers_last_week\n",
    "    preds.append(pred[:12])"
   ]
  },
  {
   "cell_type": "code",
   "execution_count": 38,
   "id": "addc6607",
   "metadata": {
    "execution": {
     "iopub.execute_input": "2023-01-14T13:47:09.972009Z",
     "iopub.status.busy": "2023-01-14T13:47:09.971523Z",
     "iopub.status.idle": "2023-01-14T13:47:15.436305Z",
     "shell.execute_reply": "2023-01-14T13:47:15.435006Z"
    },
    "papermill": {
     "duration": 5.481661,
     "end_time": "2023-01-14T13:47:15.439428",
     "exception": false,
     "start_time": "2023-01-14T13:47:09.957767",
     "status": "completed"
    },
    "tags": []
   },
   "outputs": [],
   "source": [
    "preds = [' '.join(['0' + str(p) for p in ps]) for ps in preds]\n",
    "sub['prediction'] = preds"
   ]
  },
  {
   "cell_type": "code",
   "execution_count": 39,
   "id": "260c9502",
   "metadata": {
    "execution": {
     "iopub.execute_input": "2023-01-14T13:47:15.462469Z",
     "iopub.status.busy": "2023-01-14T13:47:15.462067Z",
     "iopub.status.idle": "2023-01-14T13:47:21.820606Z",
     "shell.execute_reply": "2023-01-14T13:47:21.819437Z"
    },
    "papermill": {
     "duration": 6.373371,
     "end_time": "2023-01-14T13:47:21.823472",
     "exception": false,
     "start_time": "2023-01-14T13:47:15.450101",
     "status": "completed"
    },
    "tags": []
   },
   "outputs": [],
   "source": [
    "sub.to_csv('submission.csv', index=False)"
   ]
  }
 ],
 "metadata": {
  "kernelspec": {
   "display_name": "Python 3",
   "language": "python",
   "name": "python3"
  },
  "language_info": {
   "codemirror_mode": {
    "name": "ipython",
    "version": 3
   },
   "file_extension": ".py",
   "mimetype": "text/x-python",
   "name": "python",
   "nbconvert_exporter": "python",
   "pygments_lexer": "ipython3",
   "version": "3.8.1"
  },
  "papermill": {
   "default_parameters": {},
   "duration": 248.551374,
   "end_time": "2023-01-14T13:47:23.359742",
   "environment_variables": {},
   "exception": null,
   "input_path": "__notebook__.ipynb",
   "output_path": "__notebook__.ipynb",
   "parameters": {},
   "start_time": "2023-01-14T13:43:14.808368",
   "version": "2.3.4"
  },
  "vscode": {
   "interpreter": {
    "hash": "b1a671b2742d84b2692295568874866a8bf0cd07ca57ea72dfd202e530723267"
   }
  }
 },
 "nbformat": 4,
 "nbformat_minor": 5
}
